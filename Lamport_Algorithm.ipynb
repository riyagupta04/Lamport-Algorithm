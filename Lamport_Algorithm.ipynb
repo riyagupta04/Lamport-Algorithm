{
 "cells": [
  {
   "cell_type": "code",
   "execution_count": 1,
   "id": "ca63235d-6783-4e69-a01c-422ebdd99d67",
   "metadata": {},
   "outputs": [
    {
     "name": "stdin",
     "output_type": "stream",
     "text": [
      "Enter number of processes:  3\n",
      "Enter number of events in Process P1:  5\n",
      "Enter number of events in Process P2:  7\n",
      "Enter number of events in Process P3:  6\n"
     ]
    },
    {
     "name": "stdout",
     "output_type": "stream",
     "text": [
      "[5, 7, 6]\n"
     ]
    },
    {
     "name": "stdin",
     "output_type": "stream",
     "text": [
      "Enter number of sending events : 6\n"
     ]
    },
    {
     "name": "stdout",
     "output_type": "stream",
     "text": [
      "Enter messages as: sender_pid sender_event receiver_pid receiver_event\n"
     ]
    },
    {
     "name": "stdin",
     "output_type": "stream",
     "text": [
      "sending mesaage 1 : 1 1 2 2\n",
      "sending mesaage 2 : 2 1 1 2\n",
      "sending mesaage 3 : 2 1 3 6\n",
      "sending mesaage 4 : 2 5 1 4\n",
      "sending mesaage 5 : 3 2 2 7\n",
      "sending mesaage 6 : 2 4 3 4\n"
     ]
    },
    {
     "name": "stdout",
     "output_type": "stream",
     "text": [
      "[(1, 1, 2, 2), (2, 1, 1, 2), (2, 1, 3, 6), (2, 5, 1, 4), (3, 2, 2, 7), (2, 4, 3, 4)]\n",
      "Lamport TimeStamp\n",
      "P1: [1, 2, 3, 6, 7]\n",
      "P2: [1, 2, 3, 4, 5, 6, 7]\n",
      "P3: [1, 2, 3, 5, 6, 7]\n"
     ]
    }
   ],
   "source": [
    "# Lamport algorithm\n",
    "p = int(input(\"Enter number of processes: \"))   \n",
    "proces = [] #store number of events per process\n",
    "\n",
    "for i in range(p):\n",
    "    e = int(input(f\"Enter number of events in Process P{i+1}: \"))\n",
    "    proces.append(e)\n",
    "\n",
    "print(proces)\n",
    "m = int(input(\"Enter number of sending events :\"))\n",
    "\n",
    "print(\"Enter messages as: sender_pid sender_event receiver_pid receiver_event\")\n",
    "message = []\n",
    "\n",
    "for i in range(m):\n",
    "    parts = input(f\"sending mesaage {i+1} :\").split()\n",
    "    msg = tuple(int(x) for x in parts)\n",
    "    message.append(msg)\n",
    "print(message)\n",
    "def lamport_clock(proces, message):\n",
    "    \n",
    "    timestamps = []\n",
    "    for events in proces:\n",
    "        temp = []\n",
    "        for i in range(events):\n",
    "            temp.append(i+1)\n",
    "        timestamps.append(temp)    \n",
    "  # update the message\n",
    "    for (sp, se, rp, re) in message:\n",
    "        sp, se, rp, re = sp - 1, se - 1, rp - 1, re - 1\n",
    "        \n",
    "        timestamps[rp][re] = max(timestamps[rp][re], timestamps[sp][se] + 1)\n",
    "        \n",
    "      \n",
    "        for i in range(re + 1, len(timestamps[rp])):\n",
    "            timestamps[rp][i] = timestamps[rp][i - 1] + 1\n",
    "\n",
    "    return timestamps\n",
    "# print the result\n",
    "print(\"Lamport TimeStamp\")\n",
    "result = lamport_clock(proces, message)\n",
    "for pid, times in enumerate(result, start=1):\n",
    "        print(f\"P{pid}: {times}\")\n",
    "\n",
    "\n"
   ]
  },
  {
   "cell_type": "code",
   "execution_count": null,
   "id": "1945e22b-95df-4c37-b425-80b0d7b6119d",
   "metadata": {},
   "outputs": [],
   "source": []
  }
 ],
 "metadata": {
  "kernelspec": {
   "display_name": "Python [conda env:base] *",
   "language": "python",
   "name": "conda-base-py"
  },
  "language_info": {
   "codemirror_mode": {
    "name": "ipython",
    "version": 3
   },
   "file_extension": ".py",
   "mimetype": "text/x-python",
   "name": "python",
   "nbconvert_exporter": "python",
   "pygments_lexer": "ipython3",
   "version": "3.13.5"
  }
 },
 "nbformat": 4,
 "nbformat_minor": 5
}
